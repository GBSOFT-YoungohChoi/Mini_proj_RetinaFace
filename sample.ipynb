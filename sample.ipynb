{
 "cells": [
  {
   "cell_type": "code",
   "execution_count": 3,
   "metadata": {},
   "outputs": [],
   "source": [
    "from data import WiderFaceDetection, preproc, detection_collate\n",
    "import os\n",
    "import torch\n",
    "import cv2\n",
    "import torch\n",
    "import numpy as np\n",
    "import matplotlib.pyplot as plt"
   ]
  },
  {
   "cell_type": "code",
   "execution_count": null,
   "metadata": {},
   "outputs": [],
   "source": []
  },
  {
   "cell_type": "code",
   "execution_count": 2,
   "metadata": {},
   "outputs": [
    {
     "name": "stdout",
     "output_type": "stream",
     "text": [
      "<data.wider_face.WiderFaceDetection object at 0x7f8effc991e0>\n"
     ]
    }
   ],
   "source": [
    "training_dataset = \"./data/widerface/train/label.txt\"\n",
    "img_dim = 640\n",
    "rgb_mean = (104, 117, 123) # bgr order\n",
    "dataset = WiderFaceDetection(training_dataset,preproc(img_dim, rgb_mean))\n",
    "print(dataset)"
   ]
  },
  {
   "cell_type": "code",
   "execution_count": 3,
   "metadata": {},
   "outputs": [
    {
     "name": "stdout",
     "output_type": "stream",
     "text": [
      "640\n",
      "torch.Size([640, 640])\n"
     ]
    }
   ],
   "source": [
    "print(len(dataset[0][0][0]))\n",
    "print(dataset[0][0][0].shape)\n"
   ]
  },
  {
   "cell_type": "code",
   "execution_count": 4,
   "metadata": {},
   "outputs": [
    {
     "name": "stdout",
     "output_type": "stream",
     "text": [
      "640\n",
      "torch.Size([640])\n"
     ]
    }
   ],
   "source": [
    "print(len(dataset[0][0][0][0]))\n",
    "print(dataset[0][0][0][0].shape)"
   ]
  },
  {
   "cell_type": "code",
   "execution_count": 5,
   "metadata": {},
   "outputs": [
    {
     "name": "stdout",
     "output_type": "stream",
     "text": [
      "3\n",
      "torch.Size([3, 640, 640])\n"
     ]
    }
   ],
   "source": [
    "print(len(dataset[0][0]))\n",
    "print(dataset[0][0].shape)"
   ]
  },
  {
   "cell_type": "code",
   "execution_count": 6,
   "metadata": {},
   "outputs": [
    {
     "data": {
      "text/plain": [
       "2"
      ]
     },
     "execution_count": 6,
     "metadata": {},
     "output_type": "execute_result"
    }
   ],
   "source": [
    "len(dataset[0])"
   ]
  },
  {
   "cell_type": "code",
   "execution_count": 7,
   "metadata": {},
   "outputs": [
    {
     "data": {
      "text/plain": [
       "12880"
      ]
     },
     "execution_count": 7,
     "metadata": {},
     "output_type": "execute_result"
    }
   ],
   "source": [
    "len(dataset)"
   ]
  },
  {
   "cell_type": "code",
   "execution_count": 8,
   "metadata": {},
   "outputs": [
    {
     "name": "stdout",
     "output_type": "stream",
     "text": [
      "Images Shape: torch.Size([32, 3, 640, 640])\n",
      "Targets Shape: 32\n"
     ]
    }
   ],
   "source": [
    "# 데이터셋 및 DataLoader 생성\n",
    "batch_size = 32\n",
    "num_workers = 4\n",
    "dataset = WiderFaceDetection(training_dataset, preproc(img_dim, rgb_mean))\n",
    "data_loader = torch.utils.data.DataLoader(dataset, batch_size=batch_size, shuffle=True, num_workers=num_workers, collate_fn=detection_collate)\n",
    "\n",
    "# 첫 번째 배치 데이터 확인\n",
    "images, targets = next(iter(data_loader))\n",
    "print(f\"Images Shape: {images.shape}\")\n",
    "print(f\"Targets Shape: {len(targets)}\")  # Targets는 리스트 형태일 가능성이 높음\n"
   ]
  },
  {
   "cell_type": "code",
   "execution_count": 13,
   "metadata": {},
   "outputs": [],
   "source": [
    "# 첫 번째 배치의 첫 번째 이미지 & 타겟 데이터 가져오기\n",
    "image = images[1].cpu().numpy()  # (C, H, W) → (H, W, C)\n",
    "target = targets[1]  # 첫 번째 이미지의 타겟 정보\n",
    "# Bounding Box 및 랜드마크를 이미지에 표시하는 함수\n",
    "def draw_targets(image, target):\n",
    "    image = (image * 255).astype(np.uint8)  # 정규화된 이미지를 0-255 픽셀 범위로 변환\n",
    "    image = cv2.cvtColor(image, cv2.COLOR_RGB2BGR)  # OpenCV는 BGR을 사용하므로 변환\n",
    "\n",
    "    # Bounding Box 그리기\n",
    "    for t in target:\n",
    "        x_min, y_min, x_max, y_max = int(t[0] * image.shape[1]), int(t[1] * image.shape[0]), \\\n",
    "                                     int(t[2] * image.shape[1]), int(t[3] * image.shape[0])\n",
    "        cv2.rectangle(image, (x_min, y_min), (x_max, y_max), (0, 255, 0), 2)  # 초록색 박스\n",
    "\n",
    "        # 랜드마크 좌표 (얼굴 특징점) 그리기 (x, y 좌표 5쌍)\n",
    "        for i in range(4, 14, 2):  # 4번째부터 14번째까지 (5개 랜드마크)\n",
    "            x, y = int(t[i] * image.shape[1]), int(t[i + 1] * image.shape[0])\n",
    "            cv2.circle(image, (x, y), 2, (0, 0, 255), -1)  # 빨간색 점\n",
    "\n",
    "    return image"
   ]
  },
  {
   "cell_type": "code",
   "execution_count": 14,
   "metadata": {},
   "outputs": [
    {
     "data": {
      "image/png": "[encoded data removed]",
      "text/plain": [
       "<Figure size 800x800 with 1 Axes>"
      ]
     },
     "metadata": {},
     "output_type": "display_data"
    }
   ],
   "source": [
    "image_with_targets = draw_targets(image, target)\n",
    "\n",
    "# Matplotlib으로 이미지 출력\n",
    "plt.figure(figsize=(8, 8))\n",
    "plt.imshow(cv2.cvtColor(image_with_targets, cv2.COLOR_BGR2RGB))  # 다시 RGB로 변환하여 출력\n",
    "plt.axis(\"off\")\n",
    "plt.title(\"Image with Bounding Boxes & Landmarks\")\n",
    "plt.show()"
   ]
  },
  {
   "cell_type": "code",
   "execution_count": 15,
   "metadata": {},
   "outputs": [
    {
     "name": "stdout",
     "output_type": "stream",
     "text": [
      "2.5.1\n"
     ]
    }
   ],
   "source": [
    "print(torch.__version__)"
   ]
  },
  {
   "cell_type": "code",
   "execution_count": 41,
   "metadata": {},
   "outputs": [
    {
     "name": "stdout",
     "output_type": "stream",
     "text": [
      "label: ['449', '330', '122', '149', '488.906', '373.643', '0.0', '542.089', '376.442', '0.0', '515.031', '412.83', '0.0', '485.174', '425.893', '0.0', '538.357', '431.491', '0.0', '0.82']\n",
      "annotations: []\n",
      "annotations0: [[449.   0.   0.   0.   0.   0.   0.   0.   0.   0.   0.   0.   0.   0.\n",
      "    0.]]\n",
      "annotation1: [[449. 330.   0.   0.   0.   0.   0.   0.   0.   0.   0.   0.   0.   0.\n",
      "    0.]]\n",
      "annotation2: [[4.49000e+02 3.30000e+02 4.49122e+05 0.00000e+00 0.00000e+00 0.00000e+00\n",
      "  0.00000e+00 0.00000e+00 0.00000e+00 0.00000e+00 0.00000e+00 0.00000e+00\n",
      "  0.00000e+00 0.00000e+00 0.00000e+00]]\n",
      "annotation3: [[4.49000e+02 3.30000e+02 4.49122e+05 3.30149e+05 0.00000e+00 0.00000e+00\n",
      "  0.00000e+00 0.00000e+00 0.00000e+00 0.00000e+00 0.00000e+00 0.00000e+00\n",
      "  0.00000e+00 0.00000e+00 0.00000e+00]]\n",
      "annotations 4: [[4.49000e+02 3.30000e+02 4.49122e+05 3.30149e+05 4.88906e+02 0.00000e+00\n",
      "  0.00000e+00 0.00000e+00 0.00000e+00 0.00000e+00 0.00000e+00 0.00000e+00\n",
      "  0.00000e+00 0.00000e+00 0.00000e+00]]\n",
      "annotations: [[4.49000e+02 3.30000e+02 4.49122e+05 3.30149e+05 4.88906e+02 3.73643e+02\n",
      "  0.00000e+00 0.00000e+00 0.00000e+00 0.00000e+00 0.00000e+00 0.00000e+00\n",
      "  0.00000e+00 0.00000e+00 0.00000e+00]]\n",
      "annotations: [[4.49000e+02 3.30000e+02 4.49122e+05 3.30149e+05 4.88906e+02 3.73643e+02\n",
      "  5.42089e+02 0.00000e+00 0.00000e+00 0.00000e+00 0.00000e+00 0.00000e+00\n",
      "  0.00000e+00 0.00000e+00 0.00000e+00]]\n",
      "annotations: [[4.49000e+02 3.30000e+02 4.49122e+05 3.30149e+05 4.88906e+02 3.73643e+02\n",
      "  5.42089e+02 3.76442e+02 0.00000e+00 0.00000e+00 0.00000e+00 0.00000e+00\n",
      "  0.00000e+00 0.00000e+00 0.00000e+00]]\n",
      "annotations: [[4.49000e+02 3.30000e+02 4.49122e+05 3.30149e+05 4.88906e+02 3.73643e+02\n",
      "  5.42089e+02 3.76442e+02 5.15031e+02 0.00000e+00 0.00000e+00 0.00000e+00\n",
      "  0.00000e+00 0.00000e+00 0.00000e+00]]\n",
      "annotations: [[4.49000e+02 3.30000e+02 4.49122e+05 3.30149e+05 4.88906e+02 3.73643e+02\n",
      "  5.42089e+02 3.76442e+02 5.15031e+02 4.12830e+02 0.00000e+00 0.00000e+00\n",
      "  0.00000e+00 0.00000e+00 0.00000e+00]]\n",
      "annotations: [[4.49000e+02 3.30000e+02 4.49122e+05 3.30149e+05 4.88906e+02 3.73643e+02\n",
      "  5.42089e+02 3.76442e+02 5.15031e+02 4.12830e+02 4.85174e+02 0.00000e+00\n",
      "  0.00000e+00 0.00000e+00 0.00000e+00]]\n",
      "annotations: [[4.49000e+02 3.30000e+02 4.49122e+05 3.30149e+05 4.88906e+02 3.73643e+02\n",
      "  5.42089e+02 3.76442e+02 5.15031e+02 4.12830e+02 4.85174e+02 4.25893e+02\n",
      "  0.00000e+00 0.00000e+00 0.00000e+00]]\n",
      "annotations: [[4.49000e+02 3.30000e+02 4.49122e+05 3.30149e+05 4.88906e+02 3.73643e+02\n",
      "  5.42089e+02 3.76442e+02 5.15031e+02 4.12830e+02 4.85174e+02 4.25893e+02\n",
      "  5.38357e+02 0.00000e+00 0.00000e+00]]\n",
      "annotations: [[4.49000e+02 3.30000e+02 4.49122e+05 3.30149e+05 4.88906e+02 3.73643e+02\n",
      "  5.42089e+02 3.76442e+02 5.15031e+02 4.12830e+02 4.85174e+02 4.25893e+02\n",
      "  5.38357e+02 4.31491e+02 0.00000e+00]]\n",
      "-----------------\n",
      "annotation shape: (1, 15)\n",
      "-----------------\n",
      "annotations: [[4.49000e+02 3.30000e+02 4.49122e+05 3.30149e+05 4.88906e+02 3.73643e+02\n",
      "  5.42089e+02 3.76442e+02 5.15031e+02 4.12830e+02 4.85174e+02 4.25893e+02\n",
      "  5.38357e+02 4.31491e+02 1.00000e+00]]\n",
      "-----------------\n",
      "annotations shape: (1, 15)\n",
      "-----------------\n",
      "target = [[4.49000e+02 3.30000e+02 4.49122e+05 3.30149e+05 4.88906e+02 3.73643e+02\n",
      "  5.42089e+02 3.76442e+02 5.15031e+02 4.12830e+02 4.85174e+02 4.25893e+02\n",
      "  5.38357e+02 4.31491e+02 1.00000e+00]]\n",
      "-----------------\n",
      "target shape = (1, 15)\n",
      "-----------------\n",
      "[[[255 251 237]\n",
      "  [255 251 237]\n",
      "  [255 251 237]\n",
      "  ...\n",
      "  [249 250 248]\n",
      "  [250 255 255]\n",
      "  [233 243 243]]\n",
      "\n",
      " [[106  72  59]\n",
      "  [106  72  59]\n",
      "  [106  72  59]\n",
      "  ...\n",
      "  [173 169 168]\n",
      "  [245 249 250]\n",
      "  [247 255 255]]\n",
      "\n",
      " [[ 94  50  37]\n",
      "  [ 94  50  37]\n",
      "  [ 94  50  37]\n",
      "  ...\n",
      "  [172 162 162]\n",
      "  [255 254 255]\n",
      "  [253 255 255]]\n",
      "\n",
      " ...\n",
      "\n",
      " [[ 35  73  67]\n",
      "  [ 34  72  66]\n",
      "  [ 32  70  64]\n",
      "  ...\n",
      "  [146 156 156]\n",
      "  [247 255 255]\n",
      "  [248 253 254]]\n",
      "\n",
      " [[ 42  80  74]\n",
      "  [ 40  78  72]\n",
      "  [ 36  74  68]\n",
      "  ...\n",
      "  [146 156 156]\n",
      "  [247 255 255]\n",
      "  [248 253 254]]\n",
      "\n",
      " [[ 40  78  72]\n",
      "  [ 38  76  70]\n",
      "  [ 35  73  67]\n",
      "  ...\n",
      "  [146 156 156]\n",
      "  [248 255 255]\n",
      "  [249 254 255]]] [[4.49000e+02 3.30000e+02 4.49122e+05 3.30149e+05 4.88906e+02 3.73643e+02\n",
      "  5.42089e+02 3.76442e+02 5.15031e+02 4.12830e+02 4.85174e+02 4.25893e+02\n",
      "  5.38357e+02 4.31491e+02 1.00000e+00]]\n",
      "boxes=[[4.49000e+02 3.30000e+02 4.49122e+05 3.30149e+05]], labels=[1.], landm=[[488.906 373.643 542.089 376.442 515.031 412.83  485.174 425.893 538.357\n",
      "  431.491]]\n",
      "boxes shape=(1, 4), labels shape=(1,), landm shape=(1, 10)\n",
      "-----------------\n"
     ]
    }
   ],
   "source": [
    "img_path = \"/home/youngoh/retinaface/Pytorch_Retinaface/data/widerface/train/images/0--Parade/0_Parade_marchingband_1_849.jpg\"\n",
    "img = cv2.imread(img_path)\n",
    "height, width, _ = img.shape\n",
    "\n",
    "# 디버깅을 쉽게 하기 위한 코드 (for문을 쓰지 않고 하나씩 np.array로 만들어서 처리)\n",
    "labels = \"449 330 122 149 488.906 373.643 0.0 542.089 376.442 0.0 515.031 412.83 0.0 485.174 425.893 0.0 538.357 431.491 0.0 0.82\"\n",
    "label = labels.split(' ')\n",
    "print(f\"label: {label}\")\n",
    "annotations = np.zeros((0, 15))\n",
    "\n",
    "print(f\"annotations: {annotations}\")\n",
    "annotation = np.zeros((1, 15))\n",
    "# bbox\n",
    "annotation[0, 0] = label[0]  # x1\n",
    "print(f\"annotations0: {annotation}\")\n",
    "annotation[0, 1] = label[1]  # y1\n",
    "print(f\"annotation1: {annotation}\")\n",
    "annotation[0, 2] = label[0] + label[2]  # x2\n",
    "print(f\"annotation2: {annotation}\")\n",
    "annotation[0, 3] = label[1] + label[3]  # y2\n",
    "print(f\"annotation3: {annotation}\")\n",
    "# landmarks\n",
    "annotation[0, 4] = label[4]    # l0_x\n",
    "print(f\"annotations 4: {annotation}\")\n",
    "annotation[0, 5] = label[5]    # l0_y\n",
    "print(f\"annotations: {annotation}\")\n",
    "annotation[0, 6] = label[7]    # l1_x\n",
    "print(f\"annotations: {annotation}\")\n",
    "annotation[0, 7] = label[8]    # l1_y\n",
    "print(f\"annotations: {annotation}\")\n",
    "annotation[0, 8] = label[10]   # l2_x\n",
    "print(f\"annotations: {annotation}\")\n",
    "annotation[0, 9] = label[11]   # l2_y\n",
    "print(f\"annotations: {annotation}\")\n",
    "annotation[0, 10] = label[13]  # l3_x\n",
    "print(f\"annotations: {annotation}\")\n",
    "annotation[0, 11] = label[14]  # l3_y\n",
    "print(f\"annotations: {annotation}\")\n",
    "annotation[0, 12] = label[16]  # l4_x\n",
    "print(f\"annotations: {annotation}\")\n",
    "annotation[0, 13] = label[17]  # l4_y\n",
    "print(f\"annotations: {annotation}\")\n",
    "print(\"-----------------\")\n",
    "print(f\"annotation shape: {annotation.shape}\")\n",
    "print(\"-----------------\")\n",
    "if (annotation[0, 4]<0):\n",
    "    annotation[0, 14] = -1\n",
    "else:\n",
    "    annotation[0, 14] = 1\n",
    "\n",
    "annotations = np.append(annotations, annotation, axis=0)\n",
    "print(f\"annotations: {annotations}\")\n",
    "print(\"-----------------\")\n",
    "print(f\"annotations shape: {annotations.shape}\")\n",
    "print(\"-----------------\")\n",
    "target = np.array(annotations)\n",
    "print(f\"target = {target}\")\n",
    "print(\"-----------------\")\n",
    "print(f\"target shape = {target.shape}\")\n",
    "print(\"-----------------\")\n",
    "\n",
    "\n",
    "print(img, target)\n",
    "img_dim = 640\n",
    "rgb_means = (104, 117, 123)\n",
    "\n",
    "boxes = target[:, :4].copy()\n",
    "labels = target[:, -1].copy()\n",
    "landm = target[:, 4:-1].copy()\n",
    "print(f'boxes={boxes}, labels={labels}, landm={landm}')\n",
    "print(f\"boxes shape={boxes.shape}, labels shape={labels.shape}, landm shape={landm.shape}\") \n",
    "\n",
    "print(\"-----------------\")\n",
    "# image_t, boxes_t, labels_t, landm_t, pad_image_flag = _crop(image, boxes, labels, landm, img_dim)\n",
    "\n",
    "\n",
    "\n",
    "\n",
    "\n",
    "# image_t = _distort(image_t)\n",
    "# image_t = _pad_to_square(image_t, rgb_means, pad_image_flag)\n",
    "# image_t, boxes_t, landm_t = _mirror(image_t, boxes_t, landm_t)\n",
    "# height, width, _ = image_t.shape\n",
    "# image_t = _resize_subtract_mean(image_t, img_dim, rgb_means)\n",
    "# boxes_t[:, 0::2] /= width\n",
    "# boxes_t[:, 1::2] /= height\n",
    "\n",
    "# landm_t[:, 0::2] /= width\n",
    "# landm_t[:, 1::2] /= height\n",
    "\n",
    "# labels_t = np.expand_dims(labels_t, 1)\n",
    "# targets_t = np.hstack((boxes_t, landm_t, labels_t))\n",
    "\n",
    "# print(f\"image_t={image_t}, targets_t={targets_t}\")\n"
   ]
  },
  {
   "cell_type": "code",
   "execution_count": 42,
   "metadata": {},
   "outputs": [],
   "source": [
    "import torch"
   ]
  },
  {
   "cell_type": "code",
   "execution_count": 4,
   "metadata": {},
   "outputs": [],
   "source": [
    "import torchvision.models.detection.backbone_utils as backbone_utils"
   ]
  },
  {
   "cell_type": "code",
   "execution_count": null,
   "metadata": {},
   "outputs": [],
   "source": []
  }
 ],
 "metadata": {
  "kernelspec": {
   "display_name": "debug",
   "language": "python",
   "name": "python3"
  },
  "language_info": {
   "codemirror_mode": {
    "name": "ipython",
    "version": 3
   },
   "file_extension": ".py",
   "mimetype": "text/x-python",
   "name": "python",
   "nbconvert_exporter": "python",
   "pygments_lexer": "ipython3",
   "version": "3.8.20"
  }
 },
 "nbformat": 4,
 "nbformat_minor": 2
}
